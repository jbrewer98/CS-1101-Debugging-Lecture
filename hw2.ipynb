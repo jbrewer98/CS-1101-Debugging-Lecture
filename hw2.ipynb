{
  "nbformat": 4,
  "nbformat_minor": 0,
  "metadata": {
    "colab": {
      "name": "hw2.ipynb",
      "provenance": [],
      "authorship_tag": "ABX9TyPtyihaZjXgnt9RG6Rwq+7p",
      "include_colab_link": true
    },
    "kernelspec": {
      "name": "python3",
      "display_name": "Python 3"
    }
  },
  "cells": [
    {
      "cell_type": "markdown",
      "metadata": {
        "id": "view-in-github",
        "colab_type": "text"
      },
      "source": [
        "<a href=\"https://colab.research.google.com/github/jbrewer98/CS-1101-Debugging-Lecture/blob/master/hw2.ipynb\" target=\"_parent\"><img src=\"https://colab.research.google.com/assets/colab-badge.svg\" alt=\"Open In Colab\"/></a>"
      ]
    },
    {
      "cell_type": "code",
      "metadata": {
        "id": "OWwtchHV2L0n",
        "colab_type": "code",
        "colab": {}
      },
      "source": [
        "#import packages\n",
        "import time\n",
        "from copy import deepcopy\n",
        "import json\n",
        "import pymongo\n",
        "import os\n",
        "import datetime\n",
        "import pandas as pd\n",
        "import timeit"
      ],
      "execution_count": 0,
      "outputs": []
    },
    {
      "cell_type": "code",
      "metadata": {
        "id": "0wDs4NJq2fEu",
        "colab_type": "code",
        "colab": {
          "base_uri": "https://localhost:8080/",
          "height": 88
        },
        "outputId": "0e906b8c-c7e1-4a0f-8576-1a3de381285b"
      },
      "source": [
        "#get the username and and password information - You need to run it one time at start.\n",
        "# it will prompt you and ask for input\n",
        "# test\n",
        "\n",
        "from getpass import getpass\n",
        "\n",
        "USER = getpass('Enter User Name here: ')\n",
        "PASS = getpass('Enter Password here: ')\n",
        "HOST = getpass('Enter HOST here (it should be the name of your AWS instace - you use it to connect to your instance) : ')\n",
        "PORT = getpass('Enter PORT here - unless you changed it, it is the default mongodb port -27017: ')"
      ],
      "execution_count": 3,
      "outputs": [
        {
          "output_type": "stream",
          "text": [
            "Enter User Name here: ··········\n",
            "Enter Password here: ··········\n",
            "Enter HOST here (it should be the name of your AWS instace - you use it to connect to your instance) : ··········\n",
            "Enter PORT here - unless you changed it, it is the default mongodb port -27017: ··········\n"
          ],
          "name": "stdout"
        }
      ]
    },
    {
      "cell_type": "code",
      "metadata": {
        "id": "dPzDnNkG2z9B",
        "colab_type": "code",
        "colab": {}
      },
      "source": [
        "#set up mongo connection\n",
        "mongo_url = \"mongodb://{}:{}@{}:{}/?authSource={}\".format(USER,\n",
        "                                                         PASS,\n",
        "                                                         HOST,\n",
        "                                                         PORT,\n",
        "                                                         \"lahman\")\n",
        "\n",
        "client = pymongo.MongoClient(mongo_url)"
      ],
      "execution_count": 0,
      "outputs": []
    },
    {
      "cell_type": "code",
      "metadata": {
        "id": "vWKVOjW123Z9",
        "colab_type": "code",
        "colab": {
          "base_uri": "https://localhost:8080/",
          "height": 72
        },
        "outputId": "59c5eeca-880e-4af5-8a01-f6f111aefa23"
      },
      "source": [
        "#get access to a specific database. this will work if you imported the data properly as instructed\n",
        "db = client['lahman']\n",
        "#now print all collection names\n",
        "print(\"collection names: {}\".format(db.list_collection_names()))\n",
        "reading = db['Batting'].find_one()\n",
        "#print one batting documents\n",
        "reading[\"_id\"] = str(reading[\"_id\"])\n",
        "print(reading)\n",
        "\n"
      ],
      "execution_count": 5,
      "outputs": [
        {
          "output_type": "stream",
          "text": [
            "collection names: ['Schools', 'FieldingOF', 'AwardsPlayers', 'Managers', 'Appearances', 'TeamsFranchises', 'AwardsManagers', 'SeriesPost', 'AwardsShareManagers', 'AwardsSharePlayers', 'SchoolsPlayers', 'Pitching', 'Batting', 'BattingPost', 'PitchingPost', 'ManagersHalf', 'HallOfFame', 'TeamsHalf', 'Fielding', 'AllstarFull', 'Teams', 'FieldingPost', 'Master', 'Salaries']\n",
            "{'_id': '5e49faeb73e7093b20fb4375', 'playerID': 'aardsda01', 'yearID': 2004, 'stint': 1, 'teamID': 'SFN', 'lgID': 'NL', 'G': 11, 'G_batting': 11, 'AB': 0, 'R': 0, 'H': 0, '2B': 0, '3B': 0, 'HR': 0, 'RBI': 0, 'SB': 0, 'CS': 0, 'BB': 0, 'SO': 0, 'IBB': 0, 'HBP': 0, 'SH': 0, 'SF': 0, 'GIDP': 0, 'G_old': 11}\n"
          ],
          "name": "stdout"
        }
      ]
    },
    {
      "cell_type": "code",
      "metadata": {
        "id": "j46Pa2DxEcR6",
        "colab_type": "code",
        "outputId": "7b5b547d-b488-4f8e-b60a-becb5508df9e",
        "colab": {
          "base_uri": "https://localhost:8080/",
          "height": 35
        }
      },
      "source": [
        "def query_1():\n",
        "  # The number of all stars in allstarfull.\n",
        "\n",
        "  query = {}\n",
        "  result = db['AllstarFull'].count_documents(query)\n",
        "  print(result)\n",
        "  \n",
        "\n",
        "query_1()"
      ],
      "execution_count": 128,
      "outputs": [
        {
          "output_type": "stream",
          "text": [
            "4834\n"
          ],
          "name": "stdout"
        }
      ]
    },
    {
      "cell_type": "code",
      "metadata": {
        "colab_type": "code",
        "outputId": "c403ed0c-2ae2-4855-bbcd-19104032a37c",
        "id": "N7t4KHmsYmbG",
        "colab": {
          "base_uri": "https://localhost:8080/",
          "height": 35
        }
      },
      "source": [
        "def query_2():\n",
        "  # The most home runs in a season by a single player (using the batting table).\n",
        "\n",
        "  query = {}\n",
        "  result = db['Batting'].find(query)\n",
        "  data = []\n",
        "\n",
        "  for x in result:\n",
        "    if x[\"HR\"] != \"\":\n",
        "      data.append(x[\"HR\"])\n",
        "\n",
        "  data = list(map(int, data))\n",
        "  print(max(data))\n",
        "  \n",
        "query_2()"
      ],
      "execution_count": 136,
      "outputs": [
        {
          "output_type": "stream",
          "text": [
            "73\n"
          ],
          "name": "stdout"
        }
      ]
    },
    {
      "cell_type": "code",
      "metadata": {
        "colab_type": "code",
        "outputId": "e4782c5e-e6f2-49ec-fa3c-ccd5c1c7331c",
        "id": "IMzblJiepGi_",
        "colab": {
          "base_uri": "https://localhost:8080/",
          "height": 35
        }
      },
      "source": [
        "def query_3():\n",
        "  # The playerid of the player with the most home runs in a season.\n",
        "\n",
        "  query = {\"HR\": {\"$ne\": \"\"}}\n",
        "  result = db['Batting'].find(query)\n",
        "\n",
        "  data = [x for x in result]\n",
        "\n",
        "  df = pd.DataFrame(data = data)\n",
        "  index = df[\"HR\"].idxmax()\n",
        "  print(df[\"playerID\"][index])\n",
        "  \n",
        "query_3()"
      ],
      "execution_count": 137,
      "outputs": [
        {
          "output_type": "stream",
          "text": [
            "bondsba01\n"
          ],
          "name": "stdout"
        }
      ]
    },
    {
      "cell_type": "code",
      "metadata": {
        "colab_type": "code",
        "outputId": "5fbba0d9-7c31-49b0-ba51-1127d8d1cdf1",
        "id": "7uXhB8XPtSAn",
        "colab": {
          "base_uri": "https://localhost:8080/",
          "height": 35
        }
      },
      "source": [
        "def query_4():\n",
        "  # The number of leagues in the batting table.\n",
        "\n",
        "  query = {}\n",
        "  result = db['Batting'].find(query)\n",
        "  data = [x for x in result]\n",
        "  \n",
        "  df = pd.DataFrame(data = data)\n",
        "  print(df[\"lgID\"].nunique())\n",
        "  \n",
        "query_4()"
      ],
      "execution_count": 138,
      "outputs": [
        {
          "output_type": "stream",
          "text": [
            "7\n"
          ],
          "name": "stdout"
        }
      ]
    },
    {
      "cell_type": "code",
      "metadata": {
        "colab_type": "code",
        "outputId": "c9773739-8d26-4292-b3d4-3125e4d70beb",
        "id": "jd6lCQboudtd",
        "colab": {
          "base_uri": "https://localhost:8080/",
          "height": 35
        }
      },
      "source": [
        "def query_5():\n",
        "  # Barry Bond's average batting average (playerid = 'bondsba01') where batting average is hits / at-bats. \n",
        "  # Note you will nead to cast hits to get a decimal: cast(h as real)\n",
        "\n",
        "  query = {\"playerID\": {\"$eq\": \"bondsba01\"}}\n",
        "  result = db['Batting'].find(query)\n",
        "  data = [x for x in result]\n",
        "  \n",
        "  df = pd.DataFrame(data = data)\n",
        "  average = (df[\"H\"]/df[\"AB\"]).mean()\n",
        "  print(average)\n",
        "  \n",
        "query_5()"
      ],
      "execution_count": 139,
      "outputs": [
        {
          "output_type": "stream",
          "text": [
            "0.2983057628600463\n"
          ],
          "name": "stdout"
        }
      ]
    },
    {
      "cell_type": "code",
      "metadata": {
        "colab_type": "code",
        "outputId": "46ac61b3-aa88-4e8e-a131-016add44f6c3",
        "id": "3wDH0rAVw8Os",
        "colab": {
          "base_uri": "https://localhost:8080/",
          "height": 35
        }
      },
      "source": [
        "def query_6():\n",
        "  # The teamid with the fewest hits in the year 2000 (ie., yearid = '2000').\n",
        "  # Return both the teamid, and the number of hits.\n",
        "\n",
        "  query = {\"yearID\": {\"$eq\": 2000}}\n",
        "  result = db['Teams'].find(query)\n",
        "  data = [x for x in result]\n",
        "  \n",
        "  \n",
        "  df = pd.DataFrame(data = data)\n",
        "  index = df[\"H\"].idxmin()\n",
        "  print(\"Team:\",df[\"teamID\"][index],\"Hits:\",df[\"H\"][index])\n",
        "  \n",
        "query_6()"
      ],
      "execution_count": 140,
      "outputs": [
        {
          "output_type": "stream",
          "text": [
            "Team: MIL Hits: 1366\n"
          ],
          "name": "stdout"
        }
      ]
    },
    {
      "cell_type": "code",
      "metadata": {
        "colab_type": "code",
        "outputId": "bc2d4e3a-9a04-48c7-92e5-c4c98df1a2dd",
        "id": "xrVJXohnz0CY",
        "colab": {
          "base_uri": "https://localhost:8080/",
          "height": 35
        }
      },
      "source": [
        "def query_7():\n",
        "  # The teamid in the year 2000 (i.e., yearid = '2000') with the highest average batting average.\n",
        "  # Return the teamid and the average. To prevent divsion by 0, limit at-bats > 0.\n",
        "\n",
        "  query = {\"yearID\": {\"$eq\": 2000},\"AB\": {\"$ne\": \"\"}}\n",
        "  result = db['Batting'].find(query)\n",
        "  data = [x for x in result]\n",
        "  \n",
        "  df = pd.DataFrame(data = data)\n",
        "  df['BAvg'] = df[\"H\"]/df[\"AB\"]\n",
        "\n",
        "  teamAvg = df.groupby(['teamID'])['BAvg'].mean()\n",
        "  index = teamAvg.idxmax()\n",
        "  print(index,teamAvg[index])\n",
        "  \n",
        "  \n",
        "query_7()"
      ],
      "execution_count": 141,
      "outputs": [
        {
          "output_type": "stream",
          "text": [
            "SEA 0.2807991584890046\n"
          ],
          "name": "stdout"
        }
      ]
    },
    {
      "cell_type": "code",
      "metadata": {
        "colab_type": "code",
        "outputId": "eb9c4bd1-4e4f-4ac2-ea08-d1057fcda6c6",
        "id": "L6goyrMdktKM",
        "colab": {
          "base_uri": "https://localhost:8080/",
          "height": 35
        }
      },
      "source": [
        "def query_8():\n",
        "  # The number of all stars the giants (teamid = 'SFN') had in 2000.\n",
        "\n",
        "  query = {\"yearID\": {\"$eq\": 2000},\"teamID\": {\"$eq\": 'SFN'}}\n",
        "  result = db['AllstarFull'].count_documents(query)\n",
        "\n",
        "  print(result)\n",
        "  \n",
        "  \n",
        "query_8()"
      ],
      "execution_count": 142,
      "outputs": [
        {
          "output_type": "stream",
          "text": [
            "2\n"
          ],
          "name": "stdout"
        }
      ]
    },
    {
      "cell_type": "code",
      "metadata": {
        "colab_type": "code",
        "outputId": "4bd4ca30-3b43-4202-ff8a-79b2a0608b35",
        "id": "JEwFdPxyoZ2L",
        "colab": {
          "base_uri": "https://localhost:8080/",
          "height": 35
        }
      },
      "source": [
        "def query_9():\n",
        "  # The yearid which the giants had the most all stars.\n",
        "\n",
        "  query = {\"teamID\": {\"$eq\": 'SFN'}}\n",
        "  result = db['AllstarFull'].find(query)\n",
        "  data = [x for x in result]\n",
        "  \n",
        "  df = pd.DataFrame(data = data)\n",
        "  \n",
        "  yearCount = df.groupby(['yearID'])['yearID'].count()\n",
        "\n",
        "  print(yearCount.idxmax())\n",
        "  \n",
        "  \n",
        "query_9()"
      ],
      "execution_count": 25,
      "outputs": [
        {
          "output_type": "stream",
          "text": [
            "1961\n"
          ],
          "name": "stdout"
        }
      ]
    },
    {
      "cell_type": "code",
      "metadata": {
        "colab_type": "code",
        "outputId": "4ba0218e-16c7-4f65-8049-ed66609f7882",
        "id": "7FpgTetSrabH",
        "colab": {
          "base_uri": "https://localhost:8080/",
          "height": 35
        }
      },
      "source": [
        "def query_10():\n",
        "  # The average salary in year 2000.\n",
        "\n",
        "  query = {'yearID': {\"$eq\": 2000}}\n",
        "  result = db['Salaries'].find(query)\n",
        "  data = [x for x in result]\n",
        "  \n",
        "  df = pd.DataFrame(data = data)\n",
        "\n",
        "  print(df['salary'].mean())\n",
        "  \n",
        "  \n",
        "query_10()"
      ],
      "execution_count": 30,
      "outputs": [
        {
          "output_type": "stream",
          "text": [
            "1992984.5717703348\n"
          ],
          "name": "stdout"
        }
      ]
    },
    {
      "cell_type": "code",
      "metadata": {
        "colab_type": "code",
        "outputId": "b3d3acfb-ec68-4b56-fef8-44ea96a4bd67",
        "id": "QTZSjr6fsOeM",
        "colab": {
          "base_uri": "https://localhost:8080/",
          "height": 35
        }
      },
      "source": [
        "def query_11():\n",
        "  # The number of positions (e.g., catchers, pitchers) that have average \n",
        "  # salaries greather than 2000000 in yearid 2000. \n",
        "  # dictionary where key is playerID, value is salary\n",
        "  # Second dictionary where key is position, value is list of players\n",
        "\n",
        "  query = {'yearID': {\"$eq\": 2000}}\n",
        "  salaries = db['Salaries'].find(query)\n",
        "  pos = db['Fielding'].find(query)\n",
        "  playerdata = {}\n",
        "\n",
        "  for x in salaries:\n",
        "    if x['playerID'] in playerdata.keys():\n",
        "      playerdata[x['playerID']]=playerdata[x['playerID']]+x['salary']\n",
        "    playerdata[x['playerID']] = x['salary']\n",
        "\n",
        "  posdata={}\n",
        "  for x in pos:\n",
        "    if x['POS'] is not None and x['playerID'] in playerdata.keys():\n",
        "      if x['POS'] not in posdata.keys():\n",
        "        posdata[x['POS']] =[]\n",
        "      else:\n",
        "        posdata[x['POS']].append(playerdata[x['playerID']])\n",
        "        \n",
        "  count = 0\n",
        "\n",
        "  for x in posdata:\n",
        "    if sum(posdata[x])/len(posdata[x]) > 2000000:\n",
        "      count += 1\n",
        "\n",
        "\n",
        "  print(count)\n",
        "  \n",
        "  \n",
        "query_11()"
      ],
      "execution_count": 64,
      "outputs": [
        {
          "output_type": "stream",
          "text": [
            "3\n"
          ],
          "name": "stdout"
        }
      ]
    },
    {
      "cell_type": "code",
      "metadata": {
        "colab_type": "code",
        "outputId": "94a00aff-237a-4632-f1eb-4454d2b848ee",
        "id": "RRAyI-ZS5fQG",
        "colab": {
          "base_uri": "https://localhost:8080/",
          "height": 35
        }
      },
      "source": [
        "def query_12():\n",
        "  # The number of errors Barry Bonds had in 2000.\n",
        "\n",
        "  query = {'yearID': {\"$eq\": 2000},'playerID': {\"$eq\": 'bondsba01'}}\n",
        "  data = db['Fielding'].find(query)\n",
        "  df = pd.DataFrame(data = data)\n",
        "  df.drop_duplicates()\n",
        "\n",
        "\n",
        "  print(df['E'][0])\n",
        "  \n",
        "  \n",
        "query_12()"
      ],
      "execution_count": 71,
      "outputs": [
        {
          "output_type": "stream",
          "text": [
            "3\n"
          ],
          "name": "stdout"
        }
      ]
    },
    {
      "cell_type": "code",
      "metadata": {
        "colab_type": "code",
        "outputId": "dde64c92-1ac8-41d7-9652-6174052be9bc",
        "id": "Ml9kOiyw8fJM",
        "colab": {
          "base_uri": "https://localhost:8080/",
          "height": 35
        }
      },
      "source": [
        "def query_13():\n",
        "  # The average salary of all stars in 2000.\n",
        "\n",
        "  query = {'yearID': {\"$eq\": 2000}}\n",
        "  allstar = db['AllstarFull'].find(query)\n",
        "  salary = db['Salaries'].find(query)\n",
        "\n",
        "  dataAS = [x for x in allstar]\n",
        "  dataSal = [x for x in salary]\n",
        "\n",
        "  dfAS = pd.DataFrame(data = dataAS)\n",
        "  dfSal = pd.DataFrame(data = dataSal)\n",
        "\n",
        "  dfm = dfAS.merge(dfSal, on = 'playerID')\n",
        "\n",
        "\n",
        "\n",
        "  print(dfm['salary'].mean())\n",
        "  \n",
        "  \n",
        "query_13()"
      ],
      "execution_count": 86,
      "outputs": [
        {
          "output_type": "stream",
          "text": [
            "5388841.029411765\n"
          ],
          "name": "stdout"
        }
      ]
    },
    {
      "cell_type": "code",
      "metadata": {
        "colab_type": "code",
        "outputId": "2e84588f-5872-4f28-cdae-2741f74b678a",
        "id": "WucPy8BqGuIi",
        "colab": {
          "base_uri": "https://localhost:8080/",
          "height": 35
        }
      },
      "source": [
        "def query_14():\n",
        "  # The average salary of non-all stars in 2000.\n",
        "\n",
        "  query = {'yearID': {\"$eq\": 2000}}\n",
        "  allstar = db['AllstarFull'].find(query)\n",
        "  salary = db['Salaries'].find(query)\n",
        "\n",
        "  dataAS = [x for x in allstar]\n",
        "  dataSal = [x for x in salary]\n",
        "\n",
        "  dfAS = pd.DataFrame(data = dataAS)\n",
        "  dfSal = pd.DataFrame(data = dataSal)\n",
        "\n",
        "  dfm = dfSal.merge(dfAS, on = 'playerID',how = 'left')\n",
        "  dfm = dfm.loc[pd.isnull(dfm['GP'])]\n",
        "\n",
        "\n",
        "  print(dfm['salary'].mean())\n",
        "  \n",
        "  \n",
        "query_14()"
      ],
      "execution_count": 119,
      "outputs": [
        {
          "output_type": "stream",
          "text": [
            "1692309.78125\n"
          ],
          "name": "stdout"
        }
      ]
    },
    {
      "cell_type": "code",
      "metadata": {
        "id": "xdOj0Zi9Qz4u",
        "colab_type": "code",
        "colab": {
          "base_uri": "https://localhost:8080/",
          "height": 1000
        },
        "outputId": "31dcb731-24f3-497a-ef03-317fbea80c62"
      },
      "source": [
        "#Time it\n",
        "\n",
        "trial1 = timeit.repeat(query_1, repeat = 10, number = 1);\n",
        "df1 = pd.DataFrame(data = trial1)\n",
        "df1.boxplot()\n",
        "\n",
        "trial2 = timeit.repeat(query_2, repeat = 10, number = 1);\n",
        "df2 = pd.DataFrame(data = trial2)\n",
        "df2.boxplot()\n",
        "\n",
        "trial3 = timeit.repeat(query_3, repeat = 10, number = 1);\n",
        "df3 = pd.DataFrame(data = trial3)\n",
        "df3.boxplot()\n",
        "\n",
        "trial4 = timeit.repeat(query_4, repeat = 10, number = 1);\n",
        "df4 = pd.DataFrame(data = trial4)\n",
        "df4.boxplot()\n",
        "\n",
        "trial5 = timeit.repeat(query_5, repeat = 10, number = 1);\n",
        "df5 = pd.DataFrame(data = trial5)\n",
        "df5.boxplot()\n",
        "\n",
        "trial6 = timeit.repeat(query_6, repeat = 10, number = 1);\n",
        "df6 = pd.DataFrame(data = trial6)\n",
        "df6.boxplot()\n",
        "\n",
        "trial7 = timeit.repeat(query_7, repeat = 10, number = 1);\n",
        "df7 = pd.DataFrame(data = trial7)\n",
        "df7.boxplot()\n",
        "\n",
        "trial8 = timeit.repeat(query_8, repeat = 10, number = 1);\n",
        "df8 = pd.DataFrame(data = trial8)\n",
        "df8.boxplot()\n",
        "\n",
        "trial9 = timeit.repeat(query_9, repeat = 10, number = 1);\n",
        "df9 = pd.DataFrame(data = trial9)\n",
        "df9.boxplot()\n",
        "\n",
        "trial10 = timeit.repeat(query_10, repeat = 10, number = 1);\n",
        "df10 = pd.DataFrame(data = trial10)\n",
        "df10.boxplot()\n",
        "\n",
        "trial11 = timeit.repeat(query_11, repeat = 10, number = 1);\n",
        "df11 = pd.DataFrame(data = trial11)\n",
        "df11.boxplot()\n",
        "\n",
        "trial12 = timeit.repeat(query_12, repeat = 10, number = 1);\n",
        "df12 = pd.DataFrame(data = trial12)\n",
        "df12.boxplot()\n",
        "\n",
        "trial13 = timeit.repeat(query_13, repeat = 10, number = 1);\n",
        "df13 = pd.DataFrame(data = trial13)\n",
        "df13.boxplot()\n",
        "\n",
        "trial14 = timeit.repeat(query_14, repeat = 10, number = 1);\n",
        "df14 = pd.DataFrame(data = trial14)\n",
        "df14.boxplot()\n",
        "\n",
        "\n",
        "\n",
        "\n",
        "\n",
        "\n"
      ],
      "execution_count": 143,
      "outputs": [
        {
          "output_type": "stream",
          "text": [
            "4834\n",
            "4834\n",
            "4834\n",
            "4834\n",
            "4834\n",
            "4834\n",
            "4834\n",
            "4834\n",
            "4834\n",
            "4834\n",
            "73\n",
            "73\n",
            "73\n",
            "73\n",
            "73\n",
            "73\n",
            "73\n",
            "73\n",
            "73\n",
            "73\n",
            "bondsba01\n",
            "bondsba01\n",
            "bondsba01\n",
            "bondsba01\n",
            "bondsba01\n",
            "bondsba01\n",
            "bondsba01\n",
            "bondsba01\n",
            "bondsba01\n",
            "bondsba01\n",
            "7\n",
            "7\n",
            "7\n",
            "7\n",
            "7\n",
            "7\n",
            "7\n",
            "7\n",
            "7\n",
            "7\n",
            "0.2983057628600463\n",
            "0.2983057628600463\n",
            "0.2983057628600463\n",
            "0.2983057628600463\n",
            "0.2983057628600463\n",
            "0.2983057628600463\n",
            "0.2983057628600463\n",
            "0.2983057628600463\n",
            "0.2983057628600463\n",
            "0.2983057628600463\n",
            "Team: MIL Hits: 1366\n",
            "Team: MIL Hits: 1366\n",
            "Team: MIL Hits: 1366\n",
            "Team: MIL Hits: 1366\n",
            "Team: MIL Hits: 1366\n",
            "Team: MIL Hits: 1366\n",
            "Team: MIL Hits: 1366\n",
            "Team: MIL Hits: 1366\n",
            "Team: MIL Hits: 1366\n",
            "Team: MIL Hits: 1366\n",
            "SEA 0.2807991584890046\n",
            "SEA 0.2807991584890046\n",
            "SEA 0.2807991584890046\n",
            "SEA 0.2807991584890046\n",
            "SEA 0.2807991584890046\n",
            "SEA 0.2807991584890046\n",
            "SEA 0.2807991584890046\n",
            "SEA 0.2807991584890046\n",
            "SEA 0.2807991584890046\n",
            "SEA 0.2807991584890046\n",
            "2\n",
            "2\n",
            "2\n",
            "2\n",
            "2\n",
            "2\n",
            "2\n",
            "2\n",
            "2\n",
            "2\n",
            "1961\n",
            "1961\n",
            "1961\n",
            "1961\n",
            "1961\n",
            "1961\n",
            "1961\n",
            "1961\n",
            "1961\n",
            "1961\n",
            "1992984.5717703348\n",
            "1992984.5717703348\n",
            "1992984.5717703348\n",
            "1992984.5717703348\n",
            "1992984.5717703348\n",
            "1992984.5717703348\n",
            "1992984.5717703348\n",
            "1992984.5717703348\n",
            "1992984.5717703348\n",
            "1992984.5717703348\n",
            "3\n",
            "3\n",
            "3\n",
            "3\n",
            "3\n",
            "3\n",
            "3\n",
            "3\n",
            "3\n",
            "3\n",
            "3\n",
            "3\n",
            "3\n",
            "3\n",
            "3\n",
            "3\n",
            "3\n",
            "3\n",
            "3\n",
            "3\n",
            "5388841.029411765\n",
            "5388841.029411765\n",
            "5388841.029411765\n",
            "5388841.029411765\n",
            "5388841.029411765\n",
            "5388841.029411765\n",
            "5388841.029411765\n",
            "5388841.029411765\n",
            "5388841.029411765\n",
            "5388841.029411765\n",
            "1692309.78125\n",
            "1692309.78125\n",
            "1692309.78125\n",
            "1692309.78125\n",
            "1692309.78125\n",
            "1692309.78125\n",
            "1692309.78125\n",
            "1692309.78125\n",
            "1692309.78125\n",
            "1692309.78125\n"
          ],
          "name": "stdout"
        },
        {
          "output_type": "execute_result",
          "data": {
            "text/plain": [
              "<matplotlib.axes._subplots.AxesSubplot at 0x7f3c032bd198>"
            ]
          },
          "metadata": {
            "tags": []
          },
          "execution_count": 143
        },
        {
          "output_type": "display_data",
          "data": {
            "image/png": "[encoded data removed]",
            "text/plain": [
              "<Figure size 432x288 with 1 Axes>"
            ]
          },
          "metadata": {
            "tags": []
          }
        }
      ]
    }
  ]
}