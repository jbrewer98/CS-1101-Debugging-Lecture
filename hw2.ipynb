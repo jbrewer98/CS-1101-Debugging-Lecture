{
  "nbformat": 4,
  "nbformat_minor": 0,
  "metadata": {
    "colab": {
      "name": "hw2.ipynb",
      "provenance": [],
      "authorship_tag": "ABX9TyN/Zer0BLGRQwzwK3ffrYJT",
      "include_colab_link": true
    },
    "kernelspec": {
      "name": "python3",
      "display_name": "Python 3"
    }
  },
  "cells": [
    {
      "cell_type": "markdown",
      "metadata": {
        "id": "view-in-github",
        "colab_type": "text"
      },
      "source": [
        "<a href=\"https://colab.research.google.com/github/jbrewer98/CS-1101-Debugging-Lecture/blob/master/hw2.ipynb\" target=\"_parent\"><img src=\"https://colab.research.google.com/assets/colab-badge.svg\" alt=\"Open In Colab\"/></a>"
      ]
    },
    {
      "cell_type": "code",
      "metadata": {
        "id": "OWwtchHV2L0n",
        "colab_type": "code",
        "colab": {}
      },
      "source": [
        "#import packages\n",
        "import time\n",
        "from copy import deepcopy\n",
        "import json\n",
        "import pymongo\n",
        "import os\n",
        "import datetime\n",
        "import pandas as pd"
      ],
      "execution_count": 0,
      "outputs": []
    },
    {
      "cell_type": "code",
      "metadata": {
        "id": "0wDs4NJq2fEu",
        "colab_type": "code",
        "colab": {
          "base_uri": "https://localhost:8080/",
          "height": 87
        },
        "outputId": "6eeb7df6-85b4-4b1c-f8c6-261eef02d46f"
      },
      "source": [
        "#get the username and and password information - You need to run it one time at start.\n",
        "# it will prompt you and ask for input\n",
        "# test\n",
        "\n",
        "from getpass import getpass\n",
        "\n",
        "USER = getpass('Enter User Name here: ')\n",
        "PASS = getpass('Enter Password here: ')\n",
        "HOST = getpass('Enter HOST here (it should be the name of your AWS instace - you use it to connect to your instance) : ')\n",
        "PORT = getpass('Enter PORT here - unless you changed it, it is the default mongodb port -27017: ')"
      ],
      "execution_count": 2,
      "outputs": [
        {
          "output_type": "stream",
          "text": [
            "Enter User Name here: ··········\n",
            "Enter Password here: ··········\n",
            "Enter HOST here (it should be the name of your AWS instace - you use it to connect to your instance) : ··········\n",
            "Enter PORT here - unless you changed it, it is the default mongodb port -27017: ··········\n"
          ],
          "name": "stdout"
        }
      ]
    },
    {
      "cell_type": "code",
      "metadata": {
        "id": "dPzDnNkG2z9B",
        "colab_type": "code",
        "colab": {}
      },
      "source": [
        "#set up mongo connection\n",
        "mongo_url = \"mongodb://{}:{}@{}:{}/?authSource={}\".format(USER,\n",
        "                                                         PASS,\n",
        "                                                         HOST,\n",
        "                                                         PORT,\n",
        "                                                         \"lahman\")\n",
        "\n",
        "client = pymongo.MongoClient(mongo_url)"
      ],
      "execution_count": 0,
      "outputs": []
    },
    {
      "cell_type": "code",
      "metadata": {
        "id": "vWKVOjW123Z9",
        "colab_type": "code",
        "colab": {
          "base_uri": "https://localhost:8080/",
          "height": 72
        },
        "outputId": "668d6b47-3360-47e7-e50e-ac4d814661d7"
      },
      "source": [
        "#get access to a specific database. this will work if you imported the data properly as instructed\n",
        "db = client['lahman']\n",
        "#now print all collection names\n",
        "print(\"collection names: {}\".format(db.list_collection_names()))\n",
        "reading = db['Batting'].find_one()\n",
        "#print one batting documents\n",
        "reading[\"_id\"] = str(reading[\"_id\"])\n",
        "print(reading)\n",
        "\n"
      ],
      "execution_count": 9,
      "outputs": [
        {
          "output_type": "stream",
          "text": [
            "collection names: ['Schools', 'FieldingOF', 'AwardsPlayers', 'Managers', 'Appearances', 'TeamsFranchises', 'AwardsManagers', 'SeriesPost', 'AwardsShareManagers', 'AwardsSharePlayers', 'SchoolsPlayers', 'Pitching', 'Batting', 'BattingPost', 'PitchingPost', 'ManagersHalf', 'HallOfFame', 'TeamsHalf', 'Fielding', 'Teams', 'FieldingPost', 'AllstarFull', 'Master', 'Salaries']\n",
            "{'_id': '5e49faeb73e7093b20fb4375', 'playerID': 'aardsda01', 'yearID': 2004, 'stint': 1, 'teamID': 'SFN', 'lgID': 'NL', 'G': 11, 'G_batting': 11, 'AB': 0, 'R': 0, 'H': 0, '2B': 0, '3B': 0, 'HR': 0, 'RBI': 0, 'SB': 0, 'CS': 0, 'BB': 0, 'SO': 0, 'IBB': 0, 'HBP': 0, 'SH': 0, 'SF': 0, 'GIDP': 0, 'G_old': 11}\n"
          ],
          "name": "stdout"
        }
      ]
    },
    {
      "cell_type": "code",
      "metadata": {
        "id": "j46Pa2DxEcR6",
        "colab_type": "code",
        "outputId": "2feaaea3-fe77-43fe-a11f-761fea41b2fc",
        "colab": {
          "base_uri": "https://localhost:8080/",
          "height": 34
        }
      },
      "source": [
        "def query_1():\n",
        "  # The number of all stars in allstarfull.\n",
        "\n",
        "  query = {}\n",
        "  result = db['AllstarFull'].count_documents(query)\n",
        "  print(result)\n",
        "  \n",
        "\n",
        "query_1()"
      ],
      "execution_count": 36,
      "outputs": [
        {
          "output_type": "stream",
          "text": [
            "4834\n"
          ],
          "name": "stdout"
        }
      ]
    },
    {
      "cell_type": "code",
      "metadata": {
        "colab_type": "code",
        "outputId": "829d494a-1444-4858-c319-06ff7c37e702",
        "id": "N7t4KHmsYmbG",
        "colab": {
          "base_uri": "https://localhost:8080/",
          "height": 34
        }
      },
      "source": [
        "def query_2():\n",
        "  # The most home runs in a season by a single player (using the batting table).\n",
        "\n",
        "  query = {}\n",
        "  result = db['Batting'].find(query)\n",
        "  data = []\n",
        "\n",
        "  for x in result:\n",
        "    if x[\"HR\"] != \"\":\n",
        "      data.append(x[\"HR\"])\n",
        "\n",
        "  data = list(map(int, data))\n",
        "  print(max(data))\n",
        "  \n",
        "query_2()"
      ],
      "execution_count": 59,
      "outputs": [
        {
          "output_type": "stream",
          "text": [
            "73\n"
          ],
          "name": "stdout"
        }
      ]
    },
    {
      "cell_type": "code",
      "metadata": {
        "colab_type": "code",
        "outputId": "9399285d-5e02-4d45-919f-16bd4b0f3bbe",
        "id": "IMzblJiepGi_",
        "colab": {
          "base_uri": "https://localhost:8080/",
          "height": 34
        }
      },
      "source": [
        "def query_3():\n",
        "  # The playerid of the player with the most home runs in a season.\n",
        "\n",
        "  query = {}\n",
        "  result = db['Batting'].find(query)\n",
        "  data = []\n",
        "\n",
        "  for x in result:\n",
        "    if x[\"HR\"] != \"\":\n",
        "      data.append(x)\n",
        "\n",
        "  df = pd.DataFrame(data = data)\n",
        "  index = df[\"HR\"].idxmax()\n",
        "  print(df[\"playerID\"][index])\n",
        "  \n",
        "query_3()"
      ],
      "execution_count": 78,
      "outputs": [
        {
          "output_type": "stream",
          "text": [
            "bondsba01\n"
          ],
          "name": "stdout"
        }
      ]
    },
    {
      "cell_type": "code",
      "metadata": {
        "colab_type": "code",
        "outputId": "56d39573-6858-4d13-ee58-1ab4abd7a93d",
        "id": "7uXhB8XPtSAn",
        "colab": {
          "base_uri": "https://localhost:8080/",
          "height": 34
        }
      },
      "source": [
        "def query_4():\n",
        "  # The number of leagues in the batting table.\n",
        "\n",
        "  query = {}\n",
        "  result = db['Batting'].find(query)\n",
        "  data = [x for x in result]\n",
        "  \n",
        "  df = pd.DataFrame(data = data)\n",
        "  print(df[\"lgID\"].nunique())\n",
        "  \n",
        "query_4()"
      ],
      "execution_count": 79,
      "outputs": [
        {
          "output_type": "stream",
          "text": [
            "7\n"
          ],
          "name": "stdout"
        }
      ]
    },
    {
      "cell_type": "code",
      "metadata": {
        "colab_type": "code",
        "outputId": "dc184a63-6329-4f93-9553-9d77bc4c795b",
        "id": "jd6lCQboudtd",
        "colab": {
          "base_uri": "https://localhost:8080/",
          "height": 34
        }
      },
      "source": [
        "def query_5():\n",
        "  # Barry Bond's average batting average (playerid = 'bondsba01') where batting average is hits / at-bats. \n",
        "  # Note you will nead to cast hits to get a decimal: cast(h as real)\n",
        "\n",
        "  query = {\"playerID\": {\"$eq\": \"bondsba01\"}}\n",
        "  result = db['Batting'].find(query)\n",
        "  data = [x for x in result]\n",
        "  \n",
        "  df = pd.DataFrame(data = data)\n",
        "  average = (df[\"H\"]/df[\"AB\"]).mean()\n",
        "  print(average)\n",
        "  \n",
        "query_5()"
      ],
      "execution_count": 83,
      "outputs": [
        {
          "output_type": "stream",
          "text": [
            "0.2983057628600463\n"
          ],
          "name": "stdout"
        }
      ]
    },
    {
      "cell_type": "code",
      "metadata": {
        "colab_type": "code",
        "outputId": "aadb0073-39e1-4ad3-bde4-5098e6131659",
        "id": "3wDH0rAVw8Os",
        "colab": {
          "base_uri": "https://localhost:8080/",
          "height": 34
        }
      },
      "source": [
        "def query_6():\n",
        "  # The teamid with the fewest hits in the year 2000 (ie., yearid = '2000').\n",
        "  # Return both the teamid, and the number of hits.\n",
        "\n",
        "  query = {\"yearID\": {\"$eq\": 2000}}\n",
        "  result = db['Teams'].find(query)\n",
        "  data = [x for x in result]\n",
        "  \n",
        "  \n",
        "  df = pd.DataFrame(data = data)\n",
        "  index = df[\"H\"].idxmin()\n",
        "  print(\"Team:\",df[\"teamID\"][index],\"Hits:\",df[\"H\"][index])\n",
        "  \n",
        "query_6()"
      ],
      "execution_count": 93,
      "outputs": [
        {
          "output_type": "stream",
          "text": [
            "Team: MIL Hits: 1366\n"
          ],
          "name": "stdout"
        }
      ]
    },
    {
      "cell_type": "code",
      "metadata": {
        "colab_type": "code",
        "outputId": "2275f540-d052-4ded-da10-ad252e977e52",
        "id": "xrVJXohnz0CY",
        "colab": {
          "base_uri": "https://localhost:8080/",
          "height": 34
        }
      },
      "source": [
        "def query_7():\n",
        "  # The teamid in the year 2000 (i.e., yearid = '2000') with the highest average batting average.\n",
        "  # Return the teamid and the average. To prevent divsion by 0, limit at-bats > 0.\n",
        "\n",
        "  query = {\"yearID\": {\"$eq\": 2000},\"AB\": {\"$ne\": \"\"}}\n",
        "  result = db['Batting'].find(query)\n",
        "  data = [x for x in result]\n",
        "  \n",
        "  df = pd.DataFrame(data = data)\n",
        "  df['BAvg'] = df[\"H\"]/df[\"AB\"]\n",
        "\n",
        "  teamAvg = df.groupby(['teamID'])['BAvg'].mean()\n",
        "  index = teamAvg.idxmax()\n",
        "  print(index,teamAvg[index])\n",
        "  \n",
        "  \n",
        "query_7()"
      ],
      "execution_count": 135,
      "outputs": [
        {
          "output_type": "stream",
          "text": [
            "SEA 0.2807991584890046\n"
          ],
          "name": "stdout"
        }
      ]
    }
  ]
}